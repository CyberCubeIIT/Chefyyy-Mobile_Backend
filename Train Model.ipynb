{
 "cells": [
  {
   "cell_type": "markdown",
   "id": "c25a618b",
   "metadata": {},
   "source": [
    "### Importing necessery libraries."
   ]
  },
  {
   "cell_type": "code",
   "execution_count": 1,
   "id": "bec699ee",
   "metadata": {},
   "outputs": [],
   "source": [
    "import os\n",
    "from PIL import Image\n",
    "import numpy as np\n",
    "import keras\n",
    "from keras.utils import np_utils\n",
    "from keras.models import Sequential\n",
    "from keras.layers import Conv2D,MaxPooling2D,Dense,Flatten,Dropout\n",
    "from tensorflow.keras.callbacks import EarlyStopping\n",
    "from cv2 import cv2\n",
    "import matplotlib.pyplot as plt\n",
    "from tensorflow.keras.layers import BatchNormalization"
   ]
  },
  {
   "cell_type": "markdown",
   "id": "d720c405",
   "metadata": {},
   "source": [
    "Making a list of fruits and vegatables. Using os library to get images from train directory."
   ]
  },
  {
   "cell_type": "code",
   "execution_count": 2,
   "id": "53d8ec58",
   "metadata": {},
   "outputs": [],
   "source": [
    "path = './train/'\n",
    "fruitsAndVegs = []\n",
    "for x in os.listdir(path):\n",
    "    fruitsAndVegs.append(x)"
   ]
  },
  {
   "cell_type": "markdown",
   "id": "754ba813",
   "metadata": {},
   "source": [
    "Describe image sizes and creating empty data list and label list. Datas will be our images converted from jpg to numpy arrays."
   ]
  },
  {
   "cell_type": "code",
   "execution_count": 3,
   "id": "24ea5c3b",
   "metadata": {},
   "outputs": [],
   "source": [
    "data=[]\n",
    "labels=[]\n",
    "im_w = 224\n",
    "im_h = 224"
   ]
  },
  {
   "cell_type": "markdown",
   "id": "b448cefb",
   "metadata": {},
   "source": [
    "Creating a loop to read images from train directory, than converting images to numpy arrays. Adding labels to the belonging images. 2 images looks exist in directory but they are curropted somehow, so skipping them."
   ]
  },
  {
   "cell_type": "code",
   "execution_count": 4,
   "id": "5cbc5ccb",
   "metadata": {},
   "outputs": [],
   "source": [
    "for x in range(len(fruitsAndVegs)):\n",
    "    sub_path = path+fruitsAndVegs[x]+'/'\n",
    "    for y in os.listdir(sub_path):        \n",
    "        img_path = sub_path+y  \n",
    "        last = img_path[-12:]\n",
    "        imag=cv2.imread(img_path)  \n",
    "        if last == 'Image_56.jpg':\n",
    "            continue\n",
    "        if last == 'Image_96.jpg': \n",
    "            continue\n",
    "        img_from_ar = Image.fromarray(imag, 'RGB')\n",
    "        resized_image = img_from_ar.resize((im_w, im_h))\n",
    "        data.append(np.array(resized_image))\n",
    "        labels.append(x)"
   ]
  },
  {
   "cell_type": "markdown",
   "id": "550e5b2a",
   "metadata": {},
   "source": [
    "Shuffling labels and data"
   ]
  },
  {
   "cell_type": "code",
   "execution_count": 5,
   "id": "a62c07ab",
   "metadata": {},
   "outputs": [],
   "source": [
    "categories=np.array(data)\n",
    "labels=np.array(labels)\n",
    "\n",
    "s=np.arange(categories.shape[0])\n",
    "np.random.shuffle(s)\n",
    "categories=categories[s]\n",
    "labels=labels[s]\n",
    "\n",
    "num_classes=len(np.unique(labels))\n",
    "data_length=len(categories)"
   ]
  },
  {
   "cell_type": "markdown",
   "id": "1acdef37",
   "metadata": {},
   "source": [
    "Prepare datas and categories before model create."
   ]
  },
  {
   "cell_type": "code",
   "execution_count": 6,
   "id": "eddad13f",
   "metadata": {},
   "outputs": [],
   "source": [
    "(x_train,x_test)=categories[(int)(0.1*data_length):],categories[:(int)(0.1*data_length)]\n",
    "x_train = x_train.astype('float32')/255\n",
    "x_test = x_test.astype('float32')/255\n",
    "train_length=len(x_train)\n",
    "test_length=len(x_test)\n",
    "\n",
    "(y_train,y_test)=labels[(int)(0.1*data_length):],labels[:(int)(0.1*data_length)]\n",
    "\n",
    "y_train=np_utils.to_categorical(y_train,num_classes)\n",
    "y_test=np_utils.to_categorical(y_test,num_classes)"
   ]
  },
  {
   "cell_type": "markdown",
   "id": "a7c08f5b",
   "metadata": {},
   "source": [
    "## Create Model\n",
    "<p>This is our model for convolutional neural network. Keras Conv2D class will be used. Relu function for activation, maxpooliing and batch normalization. We have 36 different categories so dense is 36 at last and softmax will be used.</p>"
   ]
  },
  {
   "cell_type": "code",
   "execution_count": 7,
   "id": "0ee4706e",
   "metadata": {},
   "outputs": [
    {
     "name": "stdout",
     "output_type": "stream",
     "text": [
      "Model: \"sequential\"\n",
      "_________________________________________________________________\n",
      " Layer (type)                Output Shape              Param #   \n",
      "=================================================================\n",
      " conv2d (Conv2D)             (None, 222, 222, 32)      896       \n",
      "                                                                 \n",
      " max_pooling2d (MaxPooling2D  (None, 111, 111, 32)     0         \n",
      " )                                                               \n",
      "                                                                 \n",
      " batch_normalization (BatchN  (None, 111, 111, 32)     128       \n",
      " ormalization)                                                   \n",
      "                                                                 \n",
      " conv2d_1 (Conv2D)           (None, 109, 109, 64)      18496     \n",
      "                                                                 \n",
      " max_pooling2d_1 (MaxPooling  (None, 54, 54, 64)       0         \n",
      " 2D)                                                             \n",
      "                                                                 \n",
      " batch_normalization_1 (Batc  (None, 54, 54, 64)       256       \n",
      " hNormalization)                                                 \n",
      "                                                                 \n",
      " conv2d_2 (Conv2D)           (None, 52, 52, 64)        36928     \n",
      "                                                                 \n",
      " max_pooling2d_2 (MaxPooling  (None, 26, 26, 64)       0         \n",
      " 2D)                                                             \n",
      "                                                                 \n",
      " batch_normalization_2 (Batc  (None, 26, 26, 64)       256       \n",
      " hNormalization)                                                 \n",
      "                                                                 \n",
      " conv2d_3 (Conv2D)           (None, 24, 24, 96)        55392     \n",
      "                                                                 \n",
      " max_pooling2d_3 (MaxPooling  (None, 12, 12, 96)       0         \n",
      " 2D)                                                             \n",
      "                                                                 \n",
      " batch_normalization_3 (Batc  (None, 12, 12, 96)       384       \n",
      " hNormalization)                                                 \n",
      "                                                                 \n",
      " conv2d_4 (Conv2D)           (None, 10, 10, 32)        27680     \n",
      "                                                                 \n",
      " max_pooling2d_4 (MaxPooling  (None, 5, 5, 32)         0         \n",
      " 2D)                                                             \n",
      "                                                                 \n",
      " batch_normalization_4 (Batc  (None, 5, 5, 32)         128       \n",
      " hNormalization)                                                 \n",
      "                                                                 \n",
      " dropout (Dropout)           (None, 5, 5, 32)          0         \n",
      "                                                                 \n",
      " flatten (Flatten)           (None, 800)               0         \n",
      "                                                                 \n",
      " dense (Dense)               (None, 128)               102528    \n",
      "                                                                 \n",
      " dense_1 (Dense)             (None, 36)                4644      \n",
      "                                                                 \n",
      "=================================================================\n",
      "Total params: 247,716\n",
      "Trainable params: 247,140\n",
      "Non-trainable params: 576\n",
      "_________________________________________________________________\n"
     ]
    }
   ],
   "source": [
    "model = Sequential()\n",
    "model.add(Conv2D(32, kernel_size = (3, 3), activation='relu', input_shape=(im_w,im_h,3)))\n",
    "model.add(MaxPooling2D(pool_size=(2,2)))\n",
    "model.add(BatchNormalization())\n",
    "model.add(Conv2D(64, kernel_size=(3,3), activation='relu'))\n",
    "model.add(MaxPooling2D(pool_size=(2,2)))\n",
    "model.add(BatchNormalization())\n",
    "model.add(Conv2D(64, kernel_size=(3,3), activation='relu'))\n",
    "model.add(MaxPooling2D(pool_size=(2,2)))\n",
    "model.add(BatchNormalization())\n",
    "model.add(Conv2D(96, kernel_size=(3,3), activation='relu'))\n",
    "model.add(MaxPooling2D(pool_size=(2,2)))\n",
    "model.add(BatchNormalization())\n",
    "model.add(Conv2D(32, kernel_size=(3,3), activation='relu'))\n",
    "model.add(MaxPooling2D(pool_size=(2,2)))\n",
    "model.add(BatchNormalization())\n",
    "model.add(Dropout(0.2))\n",
    "model.add(Flatten())\n",
    "model.add(Dense(128, activation='relu'))\n",
    "model.add(Dense(36, activation = 'softmax'))\n",
    "model.compile(loss='categorical_crossentropy', optimizer='adam', metrics=['accuracy'])\n",
    "model.summary()"
   ]
  },
  {
   "cell_type": "markdown",
   "id": "17a092ec",
   "metadata": {},
   "source": [
    " Fitting our train data and putting an early stop to prevent waste of time and ascending data loss."
   ]
  },
  {
   "cell_type": "code",
   "execution_count": 8,
   "id": "cd419f7b",
   "metadata": {},
   "outputs": [
    {
     "name": "stdout",
     "output_type": "stream",
     "text": [
      "Epoch 1/100\n",
      "37/37 [==============================] - 18s 178ms/step - loss: 3.2843 - accuracy: 0.1377 - val_loss: 3.6751 - val_accuracy: 0.0440\n",
      "Epoch 2/100\n",
      "37/37 [==============================] - 4s 103ms/step - loss: 2.2997 - accuracy: 0.3198 - val_loss: 4.0593 - val_accuracy: 0.0363\n",
      "Epoch 3/100\n",
      "37/37 [==============================] - 4s 101ms/step - loss: 1.8446 - accuracy: 0.4504 - val_loss: 4.3488 - val_accuracy: 0.0396\n",
      "Epoch 4/100\n",
      "37/37 [==============================] - 4s 99ms/step - loss: 1.6019 - accuracy: 0.5051 - val_loss: 4.6917 - val_accuracy: 0.0363\n",
      "Epoch 5/100\n",
      "37/37 [==============================] - 4s 97ms/step - loss: 1.3626 - accuracy: 0.5805 - val_loss: 4.9853 - val_accuracy: 0.0671\n",
      "Epoch 6/100\n",
      "37/37 [==============================] - 3s 85ms/step - loss: 1.1226 - accuracy: 0.6634 - val_loss: 5.8564 - val_accuracy: 0.0308\n",
      "Epoch 7/100\n",
      "37/37 [==============================] - 3s 88ms/step - loss: 0.8954 - accuracy: 0.7371 - val_loss: 5.6850 - val_accuracy: 0.0715\n",
      "Epoch 8/100\n",
      "37/37 [==============================] - 3s 86ms/step - loss: 0.7290 - accuracy: 0.7935 - val_loss: 5.1942 - val_accuracy: 0.0891\n",
      "Epoch 9/100\n",
      "37/37 [==============================] - 3s 89ms/step - loss: 0.6200 - accuracy: 0.8233 - val_loss: 5.2064 - val_accuracy: 0.0814\n",
      "Epoch 10/100\n",
      "37/37 [==============================] - 3s 88ms/step - loss: 0.4823 - accuracy: 0.8650 - val_loss: 4.9415 - val_accuracy: 0.1001\n",
      "Epoch 11/100\n",
      "37/37 [==============================] - 3s 89ms/step - loss: 0.3869 - accuracy: 0.8970 - val_loss: 4.9626 - val_accuracy: 0.1309\n",
      "Epoch 12/100\n",
      "37/37 [==============================] - 3s 87ms/step - loss: 0.3010 - accuracy: 0.9236 - val_loss: 4.5979 - val_accuracy: 0.1562\n",
      "Epoch 13/100\n",
      "37/37 [==============================] - 3s 90ms/step - loss: 0.1906 - accuracy: 0.9621 - val_loss: 4.1911 - val_accuracy: 0.1804\n",
      "Epoch 14/100\n",
      "37/37 [==============================] - 3s 88ms/step - loss: 0.1657 - accuracy: 0.9642 - val_loss: 3.3103 - val_accuracy: 0.2464\n",
      "Epoch 15/100\n",
      "37/37 [==============================] - 3s 87ms/step - loss: 0.1260 - accuracy: 0.9767 - val_loss: 3.1592 - val_accuracy: 0.2728\n",
      "Epoch 16/100\n",
      "37/37 [==============================] - 3s 88ms/step - loss: 0.1062 - accuracy: 0.9821 - val_loss: 2.7944 - val_accuracy: 0.3498\n",
      "Epoch 17/100\n",
      "37/37 [==============================] - 3s 87ms/step - loss: 0.1043 - accuracy: 0.9799 - val_loss: 2.6121 - val_accuracy: 0.4070\n",
      "Epoch 18/100\n",
      "37/37 [==============================] - 3s 91ms/step - loss: 0.0900 - accuracy: 0.9810 - val_loss: 2.5245 - val_accuracy: 0.3707\n",
      "Epoch 19/100\n",
      "37/37 [==============================] - 3s 93ms/step - loss: 0.0742 - accuracy: 0.9875 - val_loss: 2.3790 - val_accuracy: 0.4323\n",
      "Epoch 20/100\n",
      "37/37 [==============================] - 3s 87ms/step - loss: 0.0734 - accuracy: 0.9875 - val_loss: 2.3348 - val_accuracy: 0.4411\n",
      "Epoch 21/100\n",
      "37/37 [==============================] - 3s 87ms/step - loss: 0.0808 - accuracy: 0.9821 - val_loss: 2.5982 - val_accuracy: 0.4411\n",
      "Epoch 22/100\n",
      "37/37 [==============================] - 3s 88ms/step - loss: 0.0930 - accuracy: 0.9772 - val_loss: 2.6635 - val_accuracy: 0.4037\n",
      "Epoch 23/100\n",
      "37/37 [==============================] - 3s 89ms/step - loss: 0.0732 - accuracy: 0.9848 - val_loss: 2.6953 - val_accuracy: 0.4169\n",
      "Epoch 24/100\n",
      "37/37 [==============================] - 3s 87ms/step - loss: 0.0868 - accuracy: 0.9843 - val_loss: 2.5787 - val_accuracy: 0.4279\n",
      "Epoch 25/100\n",
      "37/37 [==============================] - 3s 87ms/step - loss: 0.0625 - accuracy: 0.9854 - val_loss: 2.6695 - val_accuracy: 0.4345\n",
      "Epoch 26/100\n",
      "37/37 [==============================] - 3s 86ms/step - loss: 0.0621 - accuracy: 0.9859 - val_loss: 2.9992 - val_accuracy: 0.3905\n",
      "Epoch 27/100\n",
      "37/37 [==============================] - 3s 87ms/step - loss: 0.0598 - accuracy: 0.9864 - val_loss: 2.5208 - val_accuracy: 0.4499\n",
      "Epoch 28/100\n",
      "37/37 [==============================] - 3s 88ms/step - loss: 0.0507 - accuracy: 0.9848 - val_loss: 2.7211 - val_accuracy: 0.4268\n",
      "Epoch 29/100\n",
      "37/37 [==============================] - 3s 86ms/step - loss: 0.0557 - accuracy: 0.9854 - val_loss: 2.9045 - val_accuracy: 0.3949\n",
      "Epoch 30/100\n",
      "37/37 [==============================] - 3s 86ms/step - loss: 0.0550 - accuracy: 0.9875 - val_loss: 2.7509 - val_accuracy: 0.4048\n",
      "Epoch 31/100\n",
      "37/37 [==============================] - 3s 88ms/step - loss: 0.0548 - accuracy: 0.9864 - val_loss: 2.9767 - val_accuracy: 0.4246\n",
      "Epoch 32/100\n",
      "37/37 [==============================] - 3s 85ms/step - loss: 0.0536 - accuracy: 0.9864 - val_loss: 3.0418 - val_accuracy: 0.4279\n",
      "Epoch 33/100\n",
      "37/37 [==============================] - 3s 87ms/step - loss: 0.0540 - accuracy: 0.9870 - val_loss: 2.8704 - val_accuracy: 0.4334\n",
      "Epoch 34/100\n",
      "37/37 [==============================] - 3s 86ms/step - loss: 0.0464 - accuracy: 0.9892 - val_loss: 2.9893 - val_accuracy: 0.4389\n",
      "Epoch 35/100\n",
      "37/37 [==============================] - 3s 87ms/step - loss: 0.0639 - accuracy: 0.9827 - val_loss: 3.1242 - val_accuracy: 0.4268\n",
      "Epoch 36/100\n",
      "37/37 [==============================] - 3s 85ms/step - loss: 0.1163 - accuracy: 0.9664 - val_loss: 3.5924 - val_accuracy: 0.3850\n",
      "Epoch 37/100\n",
      "37/37 [==============================] - 3s 87ms/step - loss: 0.1186 - accuracy: 0.9642 - val_loss: 3.6600 - val_accuracy: 0.3762\n",
      "Epoch 38/100\n",
      "37/37 [==============================] - 3s 90ms/step - loss: 0.1209 - accuracy: 0.9648 - val_loss: 3.5225 - val_accuracy: 0.3806\n",
      "Epoch 39/100\n",
      "37/37 [==============================] - 3s 87ms/step - loss: 0.0964 - accuracy: 0.9740 - val_loss: 3.2073 - val_accuracy: 0.4246\n",
      "Epoch 40/100\n",
      "37/37 [==============================] - 3s 88ms/step - loss: 0.0657 - accuracy: 0.9799 - val_loss: 3.1696 - val_accuracy: 0.4125\n",
      "Epoch 41/100\n",
      "37/37 [==============================] - 3s 90ms/step - loss: 0.0460 - accuracy: 0.9875 - val_loss: 3.0246 - val_accuracy: 0.4389\n",
      "Epoch 42/100\n",
      "37/37 [==============================] - 3s 86ms/step - loss: 0.0542 - accuracy: 0.9837 - val_loss: 3.4228 - val_accuracy: 0.3927\n",
      "Epoch 43/100\n",
      "37/37 [==============================] - 3s 86ms/step - loss: 0.0580 - accuracy: 0.9854 - val_loss: 3.4886 - val_accuracy: 0.3817\n",
      "Epoch 44/100\n",
      "37/37 [==============================] - 3s 86ms/step - loss: 0.0433 - accuracy: 0.9881 - val_loss: 3.1544 - val_accuracy: 0.4301\n",
      "Epoch 45/100\n",
      "37/37 [==============================] - 3s 86ms/step - loss: 0.0364 - accuracy: 0.9919 - val_loss: 3.3452 - val_accuracy: 0.3993\n",
      "Epoch 46/100\n",
      "37/37 [==============================] - 3s 91ms/step - loss: 0.0542 - accuracy: 0.9794 - val_loss: 3.6375 - val_accuracy: 0.3982\n",
      "Epoch 47/100\n",
      "37/37 [==============================] - 3s 86ms/step - loss: 0.0387 - accuracy: 0.9892 - val_loss: 3.4427 - val_accuracy: 0.3894\n",
      "Epoch 48/100\n",
      "37/37 [==============================] - 3s 87ms/step - loss: 0.0424 - accuracy: 0.9854 - val_loss: 3.3865 - val_accuracy: 0.3927\n",
      "Epoch 49/100\n",
      "37/37 [==============================] - 3s 88ms/step - loss: 0.0402 - accuracy: 0.9892 - val_loss: 3.7173 - val_accuracy: 0.3630\n",
      "Epoch 50/100\n",
      "37/37 [==============================] - 3s 88ms/step - loss: 0.0375 - accuracy: 0.9897 - val_loss: 3.1430 - val_accuracy: 0.4389\n",
      "Epoch 51/100\n",
      "37/37 [==============================] - 3s 87ms/step - loss: 0.0261 - accuracy: 0.9913 - val_loss: 3.5510 - val_accuracy: 0.3938\n",
      "Epoch 52/100\n",
      "37/37 [==============================] - 3s 86ms/step - loss: 0.0362 - accuracy: 0.9886 - val_loss: 3.4791 - val_accuracy: 0.4081\n",
      "Epoch 53/100\n",
      "37/37 [==============================] - 3s 87ms/step - loss: 0.0682 - accuracy: 0.9810 - val_loss: 3.8677 - val_accuracy: 0.3817\n",
      "Epoch 54/100\n",
      "37/37 [==============================] - 3s 88ms/step - loss: 0.0746 - accuracy: 0.9778 - val_loss: 3.4625 - val_accuracy: 0.3817\n",
      "Epoch 55/100\n",
      "37/37 [==============================] - 3s 89ms/step - loss: 0.0606 - accuracy: 0.9799 - val_loss: 3.8077 - val_accuracy: 0.4059\n",
      "Epoch 56/100\n",
      "37/37 [==============================] - 3s 87ms/step - loss: 0.0550 - accuracy: 0.9827 - val_loss: 3.7578 - val_accuracy: 0.3850\n",
      "Epoch 57/100\n",
      "37/37 [==============================] - 3s 85ms/step - loss: 0.0393 - accuracy: 0.9881 - val_loss: 3.5726 - val_accuracy: 0.4345\n",
      "Epoch 58/100\n"
     ]
    },
    {
     "name": "stdout",
     "output_type": "stream",
     "text": [
      "37/37 [==============================] - 3s 87ms/step - loss: 0.0387 - accuracy: 0.9854 - val_loss: 3.3021 - val_accuracy: 0.4323\n",
      "Epoch 59/100\n",
      "37/37 [==============================] - 3s 86ms/step - loss: 0.0313 - accuracy: 0.9902 - val_loss: 3.3233 - val_accuracy: 0.4081\n",
      "Epoch 60/100\n",
      "37/37 [==============================] - 3s 86ms/step - loss: 0.0280 - accuracy: 0.9902 - val_loss: 3.3951 - val_accuracy: 0.4279\n",
      "Epoch 61/100\n",
      "37/37 [==============================] - 3s 87ms/step - loss: 0.0258 - accuracy: 0.9913 - val_loss: 3.2802 - val_accuracy: 0.4180\n",
      "Epoch 62/100\n",
      "37/37 [==============================] - 3s 86ms/step - loss: 0.0362 - accuracy: 0.9843 - val_loss: 3.5481 - val_accuracy: 0.4257\n",
      "Epoch 63/100\n",
      "37/37 [==============================] - 3s 86ms/step - loss: 0.0622 - accuracy: 0.9799 - val_loss: 3.9245 - val_accuracy: 0.3894\n",
      "Epoch 64/100\n",
      "37/37 [==============================] - 3s 87ms/step - loss: 0.0508 - accuracy: 0.9843 - val_loss: 4.1459 - val_accuracy: 0.3795\n",
      "Epoch 65/100\n",
      "37/37 [==============================] - 3s 86ms/step - loss: 0.0568 - accuracy: 0.9794 - val_loss: 3.7394 - val_accuracy: 0.3872\n",
      "Epoch 66/100\n",
      "37/37 [==============================] - 3s 87ms/step - loss: 0.0634 - accuracy: 0.9756 - val_loss: 3.7456 - val_accuracy: 0.3905\n",
      "Epoch 67/100\n",
      "37/37 [==============================] - 3s 87ms/step - loss: 0.0781 - accuracy: 0.9707 - val_loss: 3.9706 - val_accuracy: 0.3916\n",
      "Epoch 68/100\n",
      "37/37 [==============================] - 3s 86ms/step - loss: 0.0849 - accuracy: 0.9718 - val_loss: 4.5403 - val_accuracy: 0.3432\n",
      "Epoch 69/100\n",
      "37/37 [==============================] - 3s 88ms/step - loss: 0.0686 - accuracy: 0.9783 - val_loss: 4.2743 - val_accuracy: 0.3729\n",
      "Epoch 70/100\n",
      "37/37 [==============================] - 3s 87ms/step - loss: 0.0579 - accuracy: 0.9762 - val_loss: 4.1413 - val_accuracy: 0.3729\n",
      "Epoch 71/100\n",
      "37/37 [==============================] - 3s 87ms/step - loss: 0.0449 - accuracy: 0.9805 - val_loss: 4.2029 - val_accuracy: 0.4070\n",
      "Epoch 72/100\n",
      "37/37 [==============================] - 3s 85ms/step - loss: 0.0396 - accuracy: 0.9859 - val_loss: 4.0348 - val_accuracy: 0.3817\n",
      "Epoch 73/100\n",
      "37/37 [==============================] - 3s 86ms/step - loss: 0.0307 - accuracy: 0.9897 - val_loss: 3.8637 - val_accuracy: 0.3916\n",
      "Epoch 74/100\n",
      "37/37 [==============================] - 3s 86ms/step - loss: 0.0297 - accuracy: 0.9902 - val_loss: 3.8645 - val_accuracy: 0.3927\n",
      "Epoch 75/100\n",
      "37/37 [==============================] - 3s 87ms/step - loss: 0.0589 - accuracy: 0.9810 - val_loss: 4.6785 - val_accuracy: 0.3487\n",
      "Epoch 76/100\n",
      "37/37 [==============================] - 3s 88ms/step - loss: 0.0555 - accuracy: 0.9827 - val_loss: 4.1257 - val_accuracy: 0.3850\n",
      "Epoch 77/100\n",
      "37/37 [==============================] - 3s 87ms/step - loss: 0.0474 - accuracy: 0.9854 - val_loss: 3.9873 - val_accuracy: 0.4070\n",
      "Epoch 78/100\n",
      "37/37 [==============================] - 3s 87ms/step - loss: 0.0603 - accuracy: 0.9783 - val_loss: 4.6726 - val_accuracy: 0.3454\n",
      "Epoch 79/100\n",
      "37/37 [==============================] - 3s 87ms/step - loss: 0.0611 - accuracy: 0.9783 - val_loss: 4.8666 - val_accuracy: 0.3102\n",
      "Epoch 80/100\n",
      "37/37 [==============================] - 3s 86ms/step - loss: 0.0550 - accuracy: 0.9789 - val_loss: 4.3691 - val_accuracy: 0.3927\n",
      "Epoch 81/100\n",
      "37/37 [==============================] - 3s 87ms/step - loss: 0.0363 - accuracy: 0.9875 - val_loss: 4.0562 - val_accuracy: 0.4059\n",
      "Epoch 82/100\n",
      "37/37 [==============================] - 3s 86ms/step - loss: 0.0415 - accuracy: 0.9832 - val_loss: 4.3117 - val_accuracy: 0.4015\n",
      "Epoch 83/100\n",
      "37/37 [==============================] - 3s 86ms/step - loss: 0.0408 - accuracy: 0.9843 - val_loss: 4.2667 - val_accuracy: 0.4103\n",
      "Epoch 84/100\n",
      "37/37 [==============================] - 3s 87ms/step - loss: 0.0475 - accuracy: 0.9837 - val_loss: 4.3032 - val_accuracy: 0.3608\n",
      "Epoch 85/100\n",
      "37/37 [==============================] - 3s 86ms/step - loss: 0.0540 - accuracy: 0.9805 - val_loss: 4.3814 - val_accuracy: 0.4004\n",
      "Epoch 86/100\n",
      "37/37 [==============================] - 3s 87ms/step - loss: 0.0489 - accuracy: 0.9816 - val_loss: 4.6393 - val_accuracy: 0.3850\n",
      "Epoch 87/100\n",
      "37/37 [==============================] - 3s 86ms/step - loss: 0.0404 - accuracy: 0.9864 - val_loss: 4.3545 - val_accuracy: 0.3740\n",
      "Epoch 88/100\n",
      "37/37 [==============================] - 3s 86ms/step - loss: 0.0494 - accuracy: 0.9783 - val_loss: 4.3119 - val_accuracy: 0.3718\n",
      "Epoch 89/100\n",
      "37/37 [==============================] - 3s 86ms/step - loss: 0.0646 - accuracy: 0.9762 - val_loss: 4.9773 - val_accuracy: 0.3036\n",
      "Epoch 90/100\n",
      "37/37 [==============================] - 3s 86ms/step - loss: 0.0859 - accuracy: 0.9724 - val_loss: 4.7064 - val_accuracy: 0.3586\n",
      "Epoch 91/100\n",
      "37/37 [==============================] - 3s 87ms/step - loss: 0.0474 - accuracy: 0.9805 - val_loss: 4.9004 - val_accuracy: 0.3421\n",
      "Epoch 92/100\n",
      "37/37 [==============================] - 3s 87ms/step - loss: 0.0476 - accuracy: 0.9827 - val_loss: 4.9251 - val_accuracy: 0.3740\n",
      "Epoch 93/100\n",
      "37/37 [==============================] - 3s 87ms/step - loss: 0.0485 - accuracy: 0.9810 - val_loss: 4.3204 - val_accuracy: 0.3608\n",
      "Epoch 94/100\n",
      "37/37 [==============================] - 3s 87ms/step - loss: 0.0514 - accuracy: 0.9827 - val_loss: 4.5135 - val_accuracy: 0.4125\n",
      "Epoch 95/100\n",
      "37/37 [==============================] - 3s 88ms/step - loss: 0.0677 - accuracy: 0.9762 - val_loss: 4.4023 - val_accuracy: 0.4015\n",
      "Epoch 96/100\n",
      "37/37 [==============================] - 3s 88ms/step - loss: 0.0462 - accuracy: 0.9837 - val_loss: 4.4277 - val_accuracy: 0.4103\n",
      "Epoch 97/100\n",
      "37/37 [==============================] - 3s 87ms/step - loss: 0.0307 - accuracy: 0.9875 - val_loss: 4.3294 - val_accuracy: 0.4125\n",
      "Epoch 98/100\n",
      "37/37 [==============================] - 3s 87ms/step - loss: 0.0317 - accuracy: 0.9881 - val_loss: 4.8431 - val_accuracy: 0.3740\n",
      "Epoch 99/100\n",
      "37/37 [==============================] - 3s 87ms/step - loss: 0.0365 - accuracy: 0.9854 - val_loss: 4.4925 - val_accuracy: 0.4081\n",
      "Epoch 100/100\n",
      "37/37 [==============================] - 3s 84ms/step - loss: 0.0428 - accuracy: 0.9832 - val_loss: 4.4347 - val_accuracy: 0.3817\n",
      "\n",
      " Test accuracy: 0.43278688192367554\n"
     ]
    }
   ],
   "source": [
    "history = model.fit(x_train,y_train,batch_size=50, epochs=100,verbose=1, validation_split=0.33)\n",
    "\n",
    "score = model.evaluate(x_test, y_test, verbose=0)\n",
    "print('\\n', 'Test accuracy:', score[1])"
   ]
  },
  {
   "cell_type": "markdown",
   "id": "4e0228ad",
   "metadata": {},
   "source": [
    "Model loss visual"
   ]
  },
  {
   "cell_type": "code",
   "execution_count": 9,
   "id": "cefd8abf",
   "metadata": {},
   "outputs": [
    {
     "data": {
      "image/png": "[encoded data removed]",
      "text/plain": [
       "<Figure size 432x288 with 1 Axes>"
      ]
     },
     "metadata": {
      "needs_background": "light"
     },
     "output_type": "display_data"
    }
   ],
   "source": [
    "plt.plot(history.history['val_loss'])\n",
    "plt.plot(history.history['loss'])\n",
    "plt.title(\"Model Loss\")\n",
    "plt.ylabel(\"Loss\")\n",
    "plt.xlabel('Time')\n",
    "plt.legend(['val_loss', 'loss'], loc='upper left')\n",
    "plt.show()"
   ]
  },
  {
   "cell_type": "markdown",
   "id": "fddc1acb",
   "metadata": {},
   "source": [
    "Model accuracy visual"
   ]
  },
  {
   "cell_type": "code",
   "execution_count": 10,
   "id": "a61f7644",
   "metadata": {},
   "outputs": [
    {
     "data": {
      "image/png": "[encoded data removed]",
      "text/plain": [
       "<Figure size 432x288 with 1 Axes>"
      ]
     },
     "metadata": {
      "needs_background": "light"
     },
     "output_type": "display_data"
    }
   ],
   "source": [
    "plt.plot(history.history['val_accuracy'])\n",
    "plt.plot(history.history['accuracy'])\n",
    "plt.title(\"Model Accuracy\")\n",
    "plt.ylabel(\"Epocs\")\n",
    "plt.xlabel('Time')\n",
    "plt.legend(['val_accuracy', 'acc'], loc='upper left')\n",
    "plt.show()"
   ]
  },
  {
   "cell_type": "markdown",
   "id": "3926ce19",
   "metadata": {},
   "source": [
    "## Predictions"
   ]
  },
  {
   "cell_type": "markdown",
   "id": "9c4055cb",
   "metadata": {},
   "source": [
    "An empty list for prediction and accuracy"
   ]
  },
  {
   "cell_type": "code",
   "execution_count": 11,
   "id": "9edb07c6",
   "metadata": {},
   "outputs": [],
   "source": [
    "pred_list = []\n",
    "acc_list = []"
   ]
  },
  {
   "cell_type": "markdown",
   "id": "16ece945",
   "metadata": {},
   "source": [
    "Function is setting the images size same as set before. Converting image to numpy for prediction."
   ]
  },
  {
   "cell_type": "code",
   "execution_count": 12,
   "id": "d9d17e65",
   "metadata": {},
   "outputs": [],
   "source": [
    "def convert_to_array(img):\n",
    "    im = cv2.imread(img)\n",
    "    img = Image.fromarray(im, 'RGB')\n",
    "    image = img.resize((im_w, im_h))\n",
    "    return np.array(image)"
   ]
  },
  {
   "cell_type": "markdown",
   "id": "d0668fcb",
   "metadata": {},
   "source": [
    "Function for the result what prediction is."
   ]
  },
  {
   "cell_type": "code",
   "execution_count": 13,
   "id": "a985ab5a",
   "metadata": {},
   "outputs": [],
   "source": [
    "def get_fruit_name(label):\n",
    "    return fruitsAndVegs[label] "
   ]
  },
  {
   "cell_type": "markdown",
   "id": "45cfef47",
   "metadata": {},
   "source": [
    "Main function for prediction, accuracy score and the result."
   ]
  },
  {
   "cell_type": "code",
   "execution_count": 14,
   "id": "a71da7e0",
   "metadata": {},
   "outputs": [],
   "source": [
    "def predict_fruit(file):\n",
    "    print(\"Predicting .................................\")\n",
    "    ar=convert_to_array(file)\n",
    "    ar=ar/255\n",
    "    a=[]\n",
    "    a.append(ar)\n",
    "    a=np.array(a)\n",
    "    score=model.predict(a,verbose=1)\n",
    "    #print(score)\n",
    "    label_index=np.argmax(score)\n",
    "    #print(label_index)\n",
    "    acc=np.max(score)\n",
    "    fruitAndVegs=get_fruit_name(label_index)\n",
    "    pred_list.append(fruit)\n",
    "    acc_list.append(acc)\n",
    "    print(\"The predicted fruit is a \"+fruit+\" with accuracy =    \"+str(acc))"
   ]
  },
  {
   "cell_type": "markdown",
   "id": "b56ac11c",
   "metadata": {},
   "source": [
    "Creating a list for images in test directory."
   ]
  },
  {
   "cell_type": "code",
   "execution_count": 15,
   "id": "f197fe7a",
   "metadata": {},
   "outputs": [],
   "source": [
    "test_path = './test/'\n",
    "t_fruitsAndVegs = []\n",
    "for x in os.listdir(test_path):\n",
    "    t_fruitsAndVegs.append(x)"
   ]
  },
  {
   "cell_type": "markdown",
   "id": "8ba8bd2e",
   "metadata": {},
   "source": [
    "Predicting images in test list."
   ]
  },
  {
   "cell_type": "code",
   "execution_count": 16,
   "id": "51d5b0be",
   "metadata": {},
   "outputs": [
    {
     "name": "stdout",
     "output_type": "stream",
     "text": [
      "Predicting .................................\n",
      "1/1 [==============================] - 0s 254ms/step\n"
     ]
    },
    {
     "ename": "NameError",
     "evalue": "name 'fruit' is not defined",
     "output_type": "error",
     "traceback": [
      "\u001b[1;31m---------------------------------------------------------------------------\u001b[0m",
      "\u001b[1;31mNameError\u001b[0m                                 Traceback (most recent call last)",
      "\u001b[1;32m~\\AppData\\Local\\Temp/ipykernel_29392/230608886.py\u001b[0m in \u001b[0;36m<module>\u001b[1;34m\u001b[0m\n\u001b[0;32m      3\u001b[0m     \u001b[1;32mfor\u001b[0m \u001b[0my\u001b[0m \u001b[1;32min\u001b[0m \u001b[0mos\u001b[0m\u001b[1;33m.\u001b[0m\u001b[0mlistdir\u001b[0m\u001b[1;33m(\u001b[0m\u001b[0msub_path\u001b[0m\u001b[1;33m)\u001b[0m\u001b[1;33m:\u001b[0m\u001b[1;33m\u001b[0m\u001b[1;33m\u001b[0m\u001b[0m\n\u001b[0;32m      4\u001b[0m         \u001b[0mimg_path\u001b[0m \u001b[1;33m=\u001b[0m \u001b[0msub_path\u001b[0m\u001b[1;33m+\u001b[0m\u001b[0my\u001b[0m\u001b[1;33m\u001b[0m\u001b[1;33m\u001b[0m\u001b[0m\n\u001b[1;32m----> 5\u001b[1;33m         \u001b[0mpredict_fruit\u001b[0m\u001b[1;33m(\u001b[0m\u001b[0mimg_path\u001b[0m\u001b[1;33m)\u001b[0m\u001b[1;33m\u001b[0m\u001b[1;33m\u001b[0m\u001b[0m\n\u001b[0m",
      "\u001b[1;32m~\\AppData\\Local\\Temp/ipykernel_29392/1078753507.py\u001b[0m in \u001b[0;36mpredict_fruit\u001b[1;34m(file)\u001b[0m\n\u001b[0;32m     12\u001b[0m     \u001b[0macc\u001b[0m\u001b[1;33m=\u001b[0m\u001b[0mnp\u001b[0m\u001b[1;33m.\u001b[0m\u001b[0mmax\u001b[0m\u001b[1;33m(\u001b[0m\u001b[0mscore\u001b[0m\u001b[1;33m)\u001b[0m\u001b[1;33m\u001b[0m\u001b[1;33m\u001b[0m\u001b[0m\n\u001b[0;32m     13\u001b[0m     \u001b[0mfruitAndVegs\u001b[0m\u001b[1;33m=\u001b[0m\u001b[0mget_fruit_name\u001b[0m\u001b[1;33m(\u001b[0m\u001b[0mlabel_index\u001b[0m\u001b[1;33m)\u001b[0m\u001b[1;33m\u001b[0m\u001b[1;33m\u001b[0m\u001b[0m\n\u001b[1;32m---> 14\u001b[1;33m     \u001b[0mpred_list\u001b[0m\u001b[1;33m.\u001b[0m\u001b[0mappend\u001b[0m\u001b[1;33m(\u001b[0m\u001b[0mfruit\u001b[0m\u001b[1;33m)\u001b[0m\u001b[1;33m\u001b[0m\u001b[1;33m\u001b[0m\u001b[0m\n\u001b[0m\u001b[0;32m     15\u001b[0m     \u001b[0macc_list\u001b[0m\u001b[1;33m.\u001b[0m\u001b[0mappend\u001b[0m\u001b[1;33m(\u001b[0m\u001b[0macc\u001b[0m\u001b[1;33m)\u001b[0m\u001b[1;33m\u001b[0m\u001b[1;33m\u001b[0m\u001b[0m\n\u001b[0;32m     16\u001b[0m     \u001b[0mprint\u001b[0m\u001b[1;33m(\u001b[0m\u001b[1;34m\"The predicted fruit is a \"\u001b[0m\u001b[1;33m+\u001b[0m\u001b[0mfruit\u001b[0m\u001b[1;33m+\u001b[0m\u001b[1;34m\" with accuracy =    \"\u001b[0m\u001b[1;33m+\u001b[0m\u001b[0mstr\u001b[0m\u001b[1;33m(\u001b[0m\u001b[0macc\u001b[0m\u001b[1;33m)\u001b[0m\u001b[1;33m)\u001b[0m\u001b[1;33m\u001b[0m\u001b[1;33m\u001b[0m\u001b[0m\n",
      "\u001b[1;31mNameError\u001b[0m: name 'fruit' is not defined"
     ]
    }
   ],
   "source": [
    "for x in range(len(t_fruitsAndVegs)):\n",
    "    sub_path = test_path+t_fruitsAndVegs[x]+'/'\n",
    "    for y in os.listdir(sub_path):\n",
    "        img_path = sub_path+y\n",
    "        predict_fruit(img_path)"
   ]
  },
  {
   "cell_type": "markdown",
   "id": "f82c888e",
   "metadata": {},
   "source": [
    "Creating a list in test directory. These are real images and they will be compare with the predicted results.This list will be a kind of manual confusion matrix."
   ]
  },
  {
   "cell_type": "code",
   "execution_count": null,
   "id": "9c960a2f",
   "metadata": {},
   "outputs": [],
   "source": [
    "real_fruitsAndVegs = []\n",
    "for f in fruitsAndVegs:\n",
    "    for i in range(10):\n",
    "        real_fruitsAndVegs.append(f)"
   ]
  },
  {
   "cell_type": "markdown",
   "id": "152fa0ab",
   "metadata": {},
   "source": [
    "Creating a table including real images, predicted images and score for per image."
   ]
  },
  {
   "cell_type": "code",
   "execution_count": null,
   "id": "1b9fc827",
   "metadata": {},
   "outputs": [],
   "source": [
    "complist = list(zip(pred_list, real_fruitsAndVegs, acc_list))"
   ]
  },
  {
   "cell_type": "markdown",
   "id": "f11f48b5",
   "metadata": {},
   "source": [
    "Checking the prediction is true or false."
   ]
  },
  {
   "cell_type": "code",
   "execution_count": null,
   "id": "0ee87c71",
   "metadata": {},
   "outputs": [],
   "source": [
    "tp,fp = 0,0\n",
    "for i in range(len(complist)):\n",
    "    if complist[i][0] == complist[i][1]:\n",
    "        tp += 1\n",
    "    else:\n",
    "        fp += 1"
   ]
  },
  {
   "cell_type": "markdown",
   "id": "6696f0ec",
   "metadata": {},
   "source": [
    "Creating a precision rate."
   ]
  },
  {
   "cell_type": "code",
   "execution_count": null,
   "id": "8d75b26f",
   "metadata": {},
   "outputs": [],
   "source": [
    "rate = tp/(tp+fp)\n",
    "tp,fp,rate"
   ]
  },
  {
   "cell_type": "code",
   "execution_count": null,
   "id": "660d5ee0",
   "metadata": {},
   "outputs": [],
   "source": [
    "complist"
   ]
  },
  {
   "cell_type": "markdown",
   "id": "e0aec3e3",
   "metadata": {},
   "source": [
    "## Save Model"
   ]
  },
  {
   "cell_type": "code",
   "execution_count": 11,
   "id": "8856aadf",
   "metadata": {},
   "outputs": [
    {
     "name": "stdout",
     "output_type": "stream",
     "text": [
      "INFO:tensorflow:Assets written to: fruits_vegs_CNN_model.model\\assets\n"
     ]
    }
   ],
   "source": [
    "model.save(\"fruits_vegs_CNN_model.model\")"
   ]
  },
  {
   "cell_type": "code",
   "execution_count": null,
   "id": "a0609ffa",
   "metadata": {},
   "outputs": [],
   "source": []
  }
 ],
 "metadata": {
  "kernelspec": {
   "display_name": "Python 3 (ipykernel)",
   "language": "python",
   "name": "python3"
  },
  "language_info": {
   "codemirror_mode": {
    "name": "ipython",
    "version": 3
   },
   "file_extension": ".py",
   "mimetype": "text/x-python",
   "name": "python",
   "nbconvert_exporter": "python",
   "pygments_lexer": "ipython3",
   "version": "3.9.7"
  }
 },
 "nbformat": 4,
 "nbformat_minor": 5
}
